{
 "cells": [
  {
   "cell_type": "markdown",
   "id": "f88e34fd",
   "metadata": {},
   "source": [
    "# Strings equivalent and identity\n",
    "The is operator returns True if 2 names point to the same location in memory. This is what we’re referring to when we talk about identity.\n"
   ]
  },
  {
   "cell_type": "code",
   "execution_count": 1,
   "id": "75c2f2f9",
   "metadata": {},
   "outputs": [
    {
     "name": "stdout",
     "output_type": "stream",
     "text": [
      "True\n"
     ]
    }
   ],
   "source": [
    "print(['cat','dog']==['cat','dog']) # True, These two lists contains same strings"
   ]
  },
  {
   "cell_type": "code",
   "execution_count": 2,
   "id": "6a783e18",
   "metadata": {},
   "outputs": [
    {
     "name": "stdout",
     "output_type": "stream",
     "text": [
      "False\n"
     ]
    }
   ],
   "source": [
    "print(['cat','dog']is['cat','dog']) #False, These two lists contains same strings but doesnt point to same memory location"
   ]
  },
  {
   "cell_type": "markdown",
   "id": "93abf4fb",
   "metadata": {},
   "source": [
    "# id() function returns the id of a memory address associated with a name"
   ]
  },
  {
   "cell_type": "code",
   "execution_count": 5,
   "id": "3ad7500e",
   "metadata": {},
   "outputs": [
    {
     "name": "stdout",
     "output_type": "stream",
     "text": [
      "2748541521096\n",
      "2748541531784\n"
     ]
    }
   ],
   "source": [
    "l1=['cat','dog']\n",
    "l2=['cat','dog']\n",
    "print(id(l1)) # Print address of list1\n",
    "print(id(l2)) # Print address of list1\n",
    "# The two memeory address are different"
   ]
  },
  {
   "cell_type": "markdown",
   "id": "5d570880",
   "metadata": {},
   "source": [
    "# How would you check if each word in a string begins with a capital letter?"
   ]
  },
  {
   "cell_type": "code",
   "execution_count": 9,
   "id": "260a42fd",
   "metadata": {},
   "outputs": [
    {
     "name": "stdout",
     "output_type": "stream",
     "text": [
      "True\n",
      "False\n",
      "False\n"
     ]
    }
   ],
   "source": [
    "# The istitle() function checks if each word is capitalized\n",
    "print('I Am Hero'.istitle()) # True\n",
    "print('I Am dog'.istitle()) # False\n",
    "print('i am triger'.istitle())# False"
   ]
  },
  {
   "cell_type": "markdown",
   "id": "b13a940b",
   "metadata": {},
   "source": [
    "# Check if a string contains a specific substring"
   ]
  },
  {
   "cell_type": "code",
   "execution_count": 2,
   "id": "2f2788e9",
   "metadata": {},
   "outputs": [
    {
     "name": "stdout",
     "output_type": "stream",
     "text": [
      "True\n",
      "False\n"
     ]
    }
   ],
   "source": [
    "# The in operator will return True if a string contains a substring\n",
    "print('dog' in 'I love dog') # True\n",
    "print('cat' in 'I love dog') # False"
   ]
  },
  {
   "cell_type": "markdown",
   "id": "298895d9",
   "metadata": {},
   "source": [
    "# Find the index of the first occurrence of a substring in a string"
   ]
  },
  {
   "cell_type": "code",
   "execution_count": 4,
   "id": "2a8620e5",
   "metadata": {},
   "outputs": [
    {
     "name": "stdout",
     "output_type": "stream",
     "text": [
      "0\n",
      "-1\n"
     ]
    }
   ],
   "source": [
    "# find() returns -1 if the substring is not found\n",
    "print('dogs are good pets'.find('dogs')) # returns 0 \n",
    "print('dogs are good pets'.find('cats')) # returns -1 because words cats are not foundb \n"
   ]
  },
  {
   "cell_type": "code",
   "execution_count": 9,
   "id": "c0353cc2",
   "metadata": {},
   "outputs": [
    {
     "name": "stdout",
     "output_type": "stream",
     "text": [
      "0\n"
     ]
    },
    {
     "ename": "ValueError",
     "evalue": "substring not found",
     "output_type": "error",
     "traceback": [
      "\u001b[1;31m---------------------------------------------------------------------------\u001b[0m",
      "\u001b[1;31mValueError\u001b[0m                                Traceback (most recent call last)",
      "\u001b[1;32m~\\AppData\\Local\\Temp/ipykernel_10032/1177255963.py\u001b[0m in \u001b[0;36m<module>\u001b[1;34m\u001b[0m\n\u001b[0;32m      1\u001b[0m \u001b[1;31m# index() will throw a ValueError.\u001b[0m\u001b[1;33m\u001b[0m\u001b[1;33m\u001b[0m\u001b[1;33m\u001b[0m\u001b[0m\n\u001b[0;32m      2\u001b[0m \u001b[0mprint\u001b[0m\u001b[1;33m(\u001b[0m\u001b[1;34m'dogs are good pets'\u001b[0m\u001b[1;33m.\u001b[0m\u001b[0mindex\u001b[0m\u001b[1;33m(\u001b[0m\u001b[1;34m'dogs'\u001b[0m\u001b[1;33m)\u001b[0m\u001b[1;33m)\u001b[0m \u001b[1;31m# returns 0\u001b[0m\u001b[1;33m\u001b[0m\u001b[1;33m\u001b[0m\u001b[0m\n\u001b[1;32m----> 3\u001b[1;33m \u001b[0mprint\u001b[0m\u001b[1;33m(\u001b[0m\u001b[1;34m'dogs are good pets'\u001b[0m\u001b[1;33m.\u001b[0m\u001b[0mindex\u001b[0m\u001b[1;33m(\u001b[0m\u001b[1;34m'cats'\u001b[0m\u001b[1;33m)\u001b[0m\u001b[1;33m)\u001b[0m \u001b[1;31m# throws , ValueError: substring not found\u001b[0m\u001b[1;33m\u001b[0m\u001b[1;33m\u001b[0m\u001b[0m\n\u001b[0m",
      "\u001b[1;31mValueError\u001b[0m: substring not found"
     ]
    }
   ],
   "source": [
    "# index() will throw a ValueError, if the substring is not found\n",
    "print('dogs are good pets'.index('dogs')) # returns 0 \n",
    "print('dogs are good pets'.index('cats')) # throws , ValueError: substring not found\n"
   ]
  },
  {
   "cell_type": "markdown",
   "id": "478863a2",
   "metadata": {},
   "source": [
    "# Count the total number of characters in a string"
   ]
  },
  {
   "cell_type": "code",
   "execution_count": 10,
   "id": "357a279d",
   "metadata": {},
   "outputs": [
    {
     "name": "stdout",
     "output_type": "stream",
     "text": [
      "16\n"
     ]
    }
   ],
   "source": [
    "#len() will return the length of a string\n",
    "print(len(\"This is a string\")) # returns 16, This includes spaces as well"
   ]
  },
  {
   "cell_type": "markdown",
   "id": "f502f4ff",
   "metadata": {},
   "source": [
    "# Count the number of a specific character in a string"
   ]
  },
  {
   "cell_type": "code",
   "execution_count": 1,
   "id": "00057ce1",
   "metadata": {},
   "outputs": [
    {
     "name": "stdout",
     "output_type": "stream",
     "text": [
      "3\n"
     ]
    }
   ],
   "source": [
    "#count() will return the number of occurrences of a specific character\n",
    "print('This is a string'.count('i')) # output is 3"
   ]
  },
  {
   "cell_type": "markdown",
   "id": "bb96fef4",
   "metadata": {},
   "source": [
    "# Capitalize the first character of a string"
   ]
  },
  {
   "cell_type": "code",
   "execution_count": 2,
   "id": "4ba27d34",
   "metadata": {},
   "outputs": [
    {
     "name": "stdout",
     "output_type": "stream",
     "text": [
      "Hello world\n"
     ]
    }
   ],
   "source": [
    "print('hello world'.capitalize())"
   ]
  },
  {
   "cell_type": "markdown",
   "id": "90e4654e",
   "metadata": {},
   "source": [
    "# What is an f-string and how do you use it"
   ]
  },
  {
   "cell_type": "code",
   "execution_count": 5,
   "id": "d71f7b6b",
   "metadata": {},
   "outputs": [
    {
     "data": {
      "text/plain": [
       "'Hello. My name is Alex and I like Cakes.'"
      ]
     },
     "execution_count": 5,
     "metadata": {},
     "output_type": "execute_result"
    }
   ],
   "source": [
    "name = 'Alex'\n",
    "food = 'Cakes'\n",
    "f'Hello. My name is {name} and I like {food}.'\n",
    "# 'Hello. My name is Alex and I like Cakes.'"
   ]
  },
  {
   "cell_type": "markdown",
   "id": "b16d66f6",
   "metadata": {},
   "source": [
    "# Search a specific part of a string for a substring"
   ]
  },
  {
   "cell_type": "code",
   "execution_count": 12,
   "id": "94d0e905",
   "metadata": {},
   "outputs": [
    {
     "name": "stdout",
     "output_type": "stream",
     "text": [
      "28\n",
      "5\n"
     ]
    }
   ],
   "source": [
    "str='I am the happiest person in the whole wide world'\n",
    "print(str.index('the',12,40)) # 'the' occured at index 28\n",
    "print(str.index('the')) # 'the' occured at index 5"
   ]
  },
  {
   "cell_type": "markdown",
   "id": "78e6d429",
   "metadata": {},
   "source": [
    "# Interpolate a variable into a string using format()"
   ]
  },
  {
   "cell_type": "code",
   "execution_count": 19,
   "id": "934de01c",
   "metadata": {},
   "outputs": [
    {
     "name": "stdout",
     "output_type": "stream",
     "text": [
      "Hello. My name is Alex and I like Cakes.\n",
      "Hello. My name is Alex and I like Cakes.\n"
     ]
    }
   ],
   "source": [
    "name = 'Alex'\n",
    "food = 'Cakes'\n",
    "print('Hello. My name is {} and I like {}.'.format(name,food))\n",
    "print('Hello. My name is {name} and I like {food}.'.format(food=food,name=name))"
   ]
  },
  {
   "cell_type": "code",
   "execution_count": null,
   "id": "577a4647",
   "metadata": {},
   "outputs": [],
   "source": []
  },
  {
   "cell_type": "markdown",
   "id": "ae1c7050",
   "metadata": {},
   "source": [
    "# References"
   ]
  },
  {
   "cell_type": "markdown",
   "id": "de14aebe",
   "metadata": {},
   "source": [
    "https://towardsdatascience.com/41-questions-to-test-your-knowledge-of-python-strings-9eb473aa8fe8"
   ]
  },
  {
   "cell_type": "code",
   "execution_count": null,
   "id": "f6396843",
   "metadata": {},
   "outputs": [],
   "source": []
  }
 ],
 "metadata": {
  "kernelspec": {
   "display_name": "Python 3 (ipykernel)",
   "language": "python",
   "name": "python3"
  },
  "language_info": {
   "codemirror_mode": {
    "name": "ipython",
    "version": 3
   },
   "file_extension": ".py",
   "mimetype": "text/x-python",
   "name": "python",
   "nbconvert_exporter": "python",
   "pygments_lexer": "ipython3",
   "version": "3.7.9"
  }
 },
 "nbformat": 4,
 "nbformat_minor": 5
}
